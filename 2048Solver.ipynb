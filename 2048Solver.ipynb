{
 "metadata": {
  "name": "",
  "signature": "sha256:5dc616236c740328d711d580339fbed4c237ffa70b5faf1b5c41db2801304278"
 },
 "nbformat": 3,
 "nbformat_minor": 0,
 "worksheets": [
  {
   "cells": [
    {
     "cell_type": "markdown",
     "metadata": {},
     "source": [
      "# 2048 Solver\n",
      "\n",
      "## Setup\n",
      "\n",
      "The 2048 Board and all of the methods necessary to manipulate it is contained in the board module, and its primary interface is the Board class.  The Board class does not, however, contain the code necessary to manage a game such as overall score and pathing.  This must be managed elsewhere.  Currently in development, this is being done in the Game and Solver classes, though no commitment has yet been made to either.\n",
      "\n",
      "Instantiating the Board class directly will create an empty board.  Calling the class method Board.new_board() will create a new board with its first two random cells added.  Printing the Board instance will display a primitive console representation of the board."
     ]
    },
    {
     "cell_type": "code",
     "collapsed": false,
     "input": [
      "from board import Board\n",
      "from display import Display\n",
      "\n",
      "from IPython.display import SVG\n",
      "\n",
      "b = Board.new_board()\n",
      "print b"
     ],
     "language": "python",
     "metadata": {},
     "outputs": [
      {
       "output_type": "stream",
       "stream": "stdout",
       "text": [
        ". . . 4 \n",
        ". . . . \n",
        ". . . . \n",
        "4 . . . \n",
        "\n"
       ]
      }
     ],
     "prompt_number": 2
    },
    {
     "cell_type": "markdown",
     "metadata": {},
     "source": [
      "## Deterministic and Nondeterministic Changes\n",
      "\n",
      "Each move in a 2048 is made up of one deterministic and one nondeterministic state change.  The first is the \"move\" as chosen by a player.  This move is made deliberately with either score or better local state or both in mind.  The second, nondeterministic change is made by the game itself.  A random cell is chosen and filled with either a \"2\" or a \"4\".  The Board class handles these changes separately.  This is another reason that the game should be managed by another class."
     ]
    },
    {
     "cell_type": "markdown",
     "metadata": {},
     "source": [
      "## Stateless Actions\n",
      "\n",
      "Each board object is intended to represent only one possible state of a board in a game of 2048.  Each call to a movement method such as .shift_up() or .shift_left(), or even the addition of the random cell at the end of each turn, returns a new Board instance representing the state of the board after that change is made.  The Board instance itself goes unchanged.\n",
      "\n",
      "Movement methods will return a tuple containing first a new board instance and then the points earned by making that move.  Typically these values are unpacked when the movement method is called.  The overall score of the game must be managed outside the Board class."
     ]
    },
    {
     "cell_type": "code",
     "collapsed": false,
     "input": [
      "new_board, score = b.shift_up()\n",
      "print score\n",
      "print new_board\n"
     ],
     "language": "python",
     "metadata": {},
     "outputs": [
      {
       "output_type": "stream",
       "stream": "stdout",
       "text": [
        "0\n",
        ". 4 4 . \n",
        ". . . . \n",
        ". . . . \n",
        ". . . . \n",
        "\n"
       ]
      }
     ],
     "prompt_number": 5
    },
    {
     "cell_type": "markdown",
     "metadata": {},
     "source": [
      "## Identifiable Board States\n",
      "\n",
      "As there are a finite number of potential board states, each board object has an id property that is a basic hash digest of the current state of the board.  This was added to prevent wasted circular effort when playing the game.  However, since each turn is made up of one deterministic step and one nondeterministic step, it is important that ids are only checked after the nondeterministic step, that is, after the random cell is added to the board."
     ]
    },
    {
     "cell_type": "code",
     "collapsed": false,
     "input": [
      "print new_board.id"
     ],
     "language": "python",
     "metadata": {},
     "outputs": [
      {
       "output_type": "stream",
       "stream": "stdout",
       "text": [
        "1342613370534790899\n"
       ]
      }
     ],
     "prompt_number": 4
    },
    {
     "cell_type": "code",
     "collapsed": false,
     "input": [
      "d = Display()\n",
      "d.width = 100\n",
      "d.height = 100\n",
      "SVG(d.dom.toxml())"
     ],
     "language": "python",
     "metadata": {},
     "outputs": [
      {
       "metadata": {},
       "output_type": "pyout",
       "prompt_number": 3,
       "svg": [
        "<svg height=\"100px\" version=\"1.1\" viewBox=\"0 0 400 400\" width=\"100px\" xmlns=\"http://www.w3.org/2000/svg\">\n",
        "    <style>\n",
        "    /* <![CDATA[ */\n",
        "    svg {\n",
        "        color: #776e65;\n",
        "        font-family: sans-serif;\n",
        "    }\n",
        "\n",
        "    #board-container {\n",
        "        fill: #bbada0;\n",
        "    }\n",
        "\n",
        "    g.row rect {\n",
        "        fill: rgba(238, 228, 218, 0.35);\n",
        "    }\n",
        "    /* ]]> */\n",
        "    </style>\n",
        "\n",
        "    <rect height=\"400\" id=\"board-container\" rx=\"6\" ry=\"6\" width=\"400\">\n",
        "    </rect>\n",
        "    <g transform=\"translate(15, 15) scale(0.9575 0.9575)\">\n",
        "        <g class=\"row\">\n",
        "            <g class=\"cell\">\n",
        "                <rect height=\"85\" rx=\"3\" ry=\"3\" width=\"85\"/>\n",
        "                <text font-size=\"26\" x=\"25\" y=\"50\"/>\n",
        "            </g>\n",
        "            <g class=\"cell\" transform=\"translate(100, 0)\">\n",
        "                <rect height=\"85\" rx=\"3\" ry=\"3\" width=\"85\"/>\n",
        "                <text font-size=\"26\" x=\"25\" y=\"50\"/>\n",
        "            </g>\n",
        "            <g class=\"cell\" transform=\"translate(200, 0)\">\n",
        "                <rect height=\"85\" rx=\"3\" ry=\"3\" width=\"85\"/>\n",
        "                <text font-size=\"26\" x=\"25\" y=\"50\"/>\n",
        "            </g>\n",
        "            <g class=\"cell\" transform=\"translate(300, 0)\">\n",
        "                <rect height=\"85\" rx=\"3\" ry=\"3\" width=\"85\"/>\n",
        "                <text font-size=\"26\" x=\"25\" y=\"50\"/>\n",
        "            </g>\n",
        "        </g>\n",
        "        <g class=\"row\" transform=\"translate(0, 100)\">\n",
        "            <g class=\"cell\">\n",
        "                <rect height=\"85\" rx=\"3\" ry=\"3\" width=\"85\"/>\n",
        "                <text font-size=\"26\" x=\"25\" y=\"50\"/>\n",
        "            </g>\n",
        "            <g class=\"cell\" transform=\"translate(100, 0)\">\n",
        "                <rect height=\"85\" rx=\"3\" ry=\"3\" width=\"85\"/>\n",
        "                <text font-size=\"26\" x=\"25\" y=\"50\"/>\n",
        "            </g>\n",
        "            <g class=\"cell\" transform=\"translate(200, 0)\">\n",
        "                <rect height=\"85\" rx=\"3\" ry=\"3\" width=\"85\"/>\n",
        "                <text font-size=\"26\" x=\"25\" y=\"50\"/>\n",
        "            </g>\n",
        "            <g class=\"cell\" transform=\"translate(300, 0)\">\n",
        "                <rect height=\"85\" rx=\"3\" ry=\"3\" width=\"85\"/>\n",
        "                <text font-size=\"26\" x=\"25\" y=\"50\"/>\n",
        "            </g>\n",
        "        </g>\n",
        "        <g class=\"row\" transform=\"translate(0, 200)\">\n",
        "            <g class=\"cell\">\n",
        "                <rect height=\"85\" rx=\"3\" ry=\"3\" width=\"85\"/>\n",
        "                <text font-size=\"26\" x=\"25\" y=\"50\"/>\n",
        "            </g>\n",
        "            <g class=\"cell\" transform=\"translate(100, 0)\">\n",
        "                <rect height=\"85\" rx=\"3\" ry=\"3\" width=\"85\"/>\n",
        "                <text font-size=\"26\" x=\"25\" y=\"50\"/>\n",
        "            </g>\n",
        "            <g class=\"cell\" transform=\"translate(200, 0)\">\n",
        "                <rect height=\"85\" rx=\"3\" ry=\"3\" width=\"85\"/>\n",
        "                <text font-size=\"26\" x=\"25\" y=\"50\"/>\n",
        "            </g>\n",
        "            <g class=\"cell\" transform=\"translate(300, 0)\">\n",
        "                <rect height=\"85\" rx=\"3\" ry=\"3\" width=\"85\"/>\n",
        "                <text font-size=\"26\" x=\"25\" y=\"50\"/>\n",
        "            </g>\n",
        "        </g>\n",
        "        <g class=\"row\" transform=\"translate(0, 300)\">\n",
        "            <g class=\"cell\">\n",
        "                <rect height=\"85\" rx=\"3\" ry=\"3\" width=\"85\"/>\n",
        "                <text font-size=\"26\" x=\"25\" y=\"50\"/>\n",
        "            </g>\n",
        "            <g class=\"cell\" transform=\"translate(100, 0)\">\n",
        "                <rect height=\"85\" rx=\"3\" ry=\"3\" width=\"85\"/>\n",
        "                <text font-size=\"26\" x=\"25\" y=\"50\"/>\n",
        "            </g>\n",
        "            <g class=\"cell\" transform=\"translate(200, 0)\">\n",
        "                <rect height=\"85\" rx=\"3\" ry=\"3\" width=\"85\"/>\n",
        "                <text font-size=\"26\" x=\"25\" y=\"50\"/>\n",
        "            </g>\n",
        "            <g class=\"cell\" transform=\"translate(300, 0)\">\n",
        "                <rect height=\"85\" rx=\"3\" ry=\"3\" width=\"85\"/>\n",
        "                <text font-size=\"26\" x=\"25\" y=\"50\"/>\n",
        "            </g>\n",
        "        </g>\n",
        "    </g>\n",
        "</svg>"
       ],
       "text": [
        "<IPython.core.display.SVG at 0x10c0766d0>"
       ]
      }
     ],
     "prompt_number": 3
    },
    {
     "cell_type": "code",
     "collapsed": false,
     "input": [],
     "language": "python",
     "metadata": {},
     "outputs": []
    }
   ],
   "metadata": {}
  }
 ]
}