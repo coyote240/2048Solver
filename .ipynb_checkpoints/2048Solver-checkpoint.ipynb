{
 "metadata": {
  "name": "",
  "signature": "sha256:96dea97cc872f207e12d6b2af7e4383451ea9aae5a3d13203b5f29a5b48531b0"
 },
 "nbformat": 3,
 "nbformat_minor": 0,
 "worksheets": [
  {
   "cells": [
    {
     "cell_type": "markdown",
     "metadata": {},
     "source": [
      "# 2048 Solver\n",
      "\n",
      "## Setup\n",
      "\n",
      "The 2048 Board and all of the methods necessary to manipulate it is contained in the board module, and its primary interface is the Board class.  The Board class does not, however, contain the code necessary to manage a game such as overall score and pathing.  This must be managed elsewhere.  Currently in development, this is being done in the Game and Solver classes, though no commitment has yet been made to either.\n",
      "\n",
      "Instantiating the Board class directly will create an empty board.  Calling the class method Board.new_board() will create a new board with its first two random cells added.  Printing the Board instance will display a primitive console representation of the board."
     ]
    },
    {
     "cell_type": "code",
     "collapsed": false,
     "input": [
      "from board import Board\n",
      "\n",
      "b = Board.new_board()\n",
      "print b"
     ],
     "language": "python",
     "metadata": {},
     "outputs": [
      {
       "output_type": "stream",
       "stream": "stdout",
       "text": [
        ". . . . \n",
        ". 4 . . \n",
        ". . . . \n",
        ". . 4 . \n",
        "\n"
       ]
      }
     ],
     "prompt_number": 1
    },
    {
     "cell_type": "markdown",
     "metadata": {},
     "source": [
      "## Deterministic and Nondeterministic Changes\n",
      "\n",
      "Each move in a 2048 is made up of one deterministic and one nondeterministic state change.  The first is the \"move\" as chosen by a player.  This move is made deliberately with either score or better local state or both in mind.  The second, nondeterministic change is made by the game itself.  A random cell is chosen and filled with either a \"2\" or a \"4\".  The Board class handles these changes separately.  This is another reason that the game should be managed by another class."
     ]
    },
    {
     "cell_type": "markdown",
     "metadata": {},
     "source": [
      "## Stateless Actions\n",
      "\n",
      "Each board object is intended to represent only one possible state of a board in a game of 2048.  Each call to a movement method such as .shift_up() or .shift_left(), or even the addition of the random cell at the end of each turn, returns a new Board instance representing the state of the board after that change is made.  The Board instance itself goes unchanged.\n",
      "\n",
      "Movement methods will return a tuple containing first a new board instance and then the points earned by making that move.  Typically these values are unpacked when the movement method is called.  The overall score of the game must be managed outside the Board class."
     ]
    },
    {
     "cell_type": "code",
     "collapsed": false,
     "input": [
      "new_board, score = b.shift_up()\n",
      "print score\n",
      "print new_board\n"
     ],
     "language": "python",
     "metadata": {},
     "outputs": [
      {
       "output_type": "stream",
       "stream": "stdout",
       "text": [
        "0\n",
        ". 4 4 . \n",
        ". . . . \n",
        ". . . . \n",
        ". . . . \n",
        "\n"
       ]
      }
     ],
     "prompt_number": 5
    },
    {
     "cell_type": "markdown",
     "metadata": {},
     "source": [
      "## Identifiable Board States\n",
      "\n",
      "As there are a finite number of potential board states, each board object has an id property that is a basic hash digest of the current state of the board.  This was added to prevent wasted circular effort when playing the game.  However, since each turn is made up of one deterministic step and one nondeterministic step, it is important that ids are only checked after the nondeterministic step, that is, after the random cell is added to the board."
     ]
    },
    {
     "cell_type": "code",
     "collapsed": false,
     "input": [
      "print new_board.id"
     ],
     "language": "python",
     "metadata": {},
     "outputs": [
      {
       "output_type": "stream",
       "stream": "stdout",
       "text": [
        "1342613370534790899\n"
       ]
      }
     ],
     "prompt_number": 4
    },
    {
     "cell_type": "code",
     "collapsed": false,
     "input": [],
     "language": "python",
     "metadata": {},
     "outputs": []
    }
   ],
   "metadata": {}
  }
 ]
}